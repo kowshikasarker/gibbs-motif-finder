{
  "cells": [
    {
      "cell_type": "markdown",
      "metadata": {
        "id": "7iG_ztyyv0qm"
      },
      "source": [
        "# Setup"
      ]
    },
    {
      "cell_type": "code",
      "execution_count": null,
      "metadata": {
        "id": "HupW01PDU7H7"
      },
      "outputs": [],
      "source": [
        "import numpy as np\n",
        "import argparse\n",
        "from multiprocessing import Pool\n",
        "import time\n",
        "import os, shutil"
      ]
    },
    {
      "cell_type": "markdown",
      "metadata": {
        "id": "pRa9OUKsWL9j"
      },
      "source": [
        "# Reading Sequence from Fasta"
      ]
    },
    {
      "cell_type": "code",
      "execution_count": null,
      "metadata": {
        "id": "1sQJqV7NVSwG"
      },
      "outputs": [],
      "source": [
        "def read_sequences(fasta_path):\n",
        "    file = open(fasta_path, 'r')\n",
        "    line_no = 1\n",
        "    sequences = []\n",
        "    while True:\n",
        "        line = file.readline()\n",
        "        if not line:\n",
        "            break\n",
        "        if(line_no % 2 == 0):\n",
        "            sequences.append(line.strip())\n",
        "        line_no += 1\n",
        "    seq_count = len(sequences)\n",
        "    seq_len = len(sequences[0])\n",
        "    return sequences, seq_count, seq_len "
      ]
    },
    {
      "cell_type": "markdown",
      "metadata": {
        "id": "KBQH0baBWfmk"
      },
      "source": [
        "# Reading Motif Length from Txt"
      ]
    },
    {
      "cell_type": "code",
      "execution_count": null,
      "metadata": {
        "id": "e1h5MoE_WPoq"
      },
      "outputs": [],
      "source": [
        "def read_motiflen(txt_path):\n",
        "    file = open(txt_path, 'r')\n",
        "    motif_len = int(file.readline().strip())\n",
        "    return motif_len"
      ]
    },
    {
      "cell_type": "markdown",
      "metadata": {
        "id": "yxXZ2p5ub6pS"
      },
      "source": [
        "# calculate PWM"
      ]
    },
    {
      "cell_type": "code",
      "execution_count": null,
      "metadata": {
        "id": "nSppWFrfb8Dn"
      },
      "outputs": [],
      "source": [
        "def calc_pwm(sequences, location, seq_count, motif_len, skip_flag, skip_idx):\n",
        "    #print(location)\n",
        "    #print([sequences[s][location[s]:location[s]+motif_len]for s in range(len(sequences))])\n",
        "\n",
        "    pwm = [] # A C G T -> column order\n",
        "\n",
        "    pseudo_count = 0.0001\n",
        "\n",
        "    for loc in range(motif_len):\n",
        "        A = 0\n",
        "        C = 0\n",
        "        G = 0\n",
        "        T = 0\n",
        "        for idx in range(seq_count):\n",
        "            if(skip_flag and idx == skip_idx):\n",
        "                continue\n",
        "            base = sequences[idx][location[idx] + loc]\n",
        "            \n",
        "            #print('loc', loc, 'idx', idx, 'base', base)\n",
        "            if(base == 'A'):\n",
        "                A += 1\n",
        "            elif(base == 'C'):\n",
        "                C += 1\n",
        "            elif(base == 'G'):\n",
        "                G += 1\n",
        "            elif(base == 'T'):\n",
        "                T += 1\n",
        "        pwm.append([A, C, G, T])\n",
        "    \n",
        "    pwm = np.array(pwm)\n",
        "    #print(pwm)\n",
        "\n",
        "    pwm_sum = np.sum(pwm, axis=1)\n",
        "    #print(pwm_sum)\n",
        "\n",
        "    pwm = pwm / pwm_sum[:, None]\n",
        "    #print(pwm)\n",
        "\n",
        "    pwm += pseudo_count\n",
        "    #print(pwm)\n",
        "\n",
        "    pwm_sum = np.sum(pwm, axis=1)\n",
        "    #print(pwm_sum)\n",
        "\n",
        "    pwm = pwm / pwm_sum[:, None]\n",
        "    #print(pwm)\n",
        "    \n",
        "    return pwm"
      ]
    },
    {
      "cell_type": "markdown",
      "metadata": {
        "id": "3sY4HlcSq5kX"
      },
      "source": [
        "# Information Content"
      ]
    },
    {
      "cell_type": "code",
      "execution_count": null,
      "metadata": {
        "id": "ooILSDPjq6zh"
      },
      "outputs": [],
      "source": [
        "def calc_information_content(pwm, base_pwm, motif_len):\n",
        "    ic = 0\n",
        "\n",
        "    #print(pwm)\n",
        "    #print(base_pwm)\n",
        "\n",
        "    for i in range(motif_len):\n",
        "        for j in range(4):\n",
        "            if(pwm[i][j] != 0):\n",
        "                ic += pwm[i][j] * np.log2(pwm[i][j] / base_pwm[i][j])\n",
        "    return ic\n"
      ]
    },
    {
      "cell_type": "markdown",
      "metadata": {
        "id": "JgT2cA8EWpxj"
      },
      "source": [
        "# Markov Chain"
      ]
    },
    {
      "cell_type": "code",
      "execution_count": null,
      "metadata": {
        "id": "Gehx0nmaWpMX"
      },
      "outputs": [],
      "source": [
        "def exec_chain(sequences, seq_len, seq_count, motif_len, epoch_count):\n",
        "    #start_time = time.time()\n",
        "    best_ic = np.NINF\n",
        "    best_loc = None\n",
        "    best_pwm = None # ML rows, 4 columns\n",
        "\n",
        "    pseudo_count = 0.0001\n",
        "\n",
        "    base_pwm = [[0.25] * 4] * motif_len\n",
        "\n",
        "    #print(base_pwm)\n",
        "\n",
        "    location = np.random.randint(low=0, high=seq_len-motif_len+1, size=seq_count)\n",
        "\n",
        "    for epoch in range(epoch_count):\n",
        "        #print('Epoch', epoch)\n",
        "        skip_idx = np.random.randint(low=0, high=seq_count)\n",
        "        #print('skip_idx', skip_idx)\n",
        "        pwm = calc_pwm(sequences, location, seq_count, motif_len, True, skip_idx)\n",
        "        #print(pwm)\n",
        "        prob = []\n",
        "\n",
        "        for i in range(seq_len - motif_len + 1): # per substring\n",
        "            q = 1\n",
        "            p = 1\n",
        "            for j in range(motif_len): # per motif position\n",
        "                base = sequences[skip_idx][i + j]\n",
        "                if(base == 'A'):\n",
        "                    q *= pwm[j][0]\n",
        "                    p *= base_pwm[j][0]\n",
        "                elif(base == 'C'):\n",
        "                    q *= pwm[j][1]\n",
        "                    p *= base_pwm[j][1]\n",
        "                elif(base == 'G'):\n",
        "                    q *= pwm[j][2]\n",
        "                    p *= base_pwm[j][2]\n",
        "                elif(base == 'T'):\n",
        "                    q *= pwm[j][3]\n",
        "                    p *= base_pwm[j][3]\n",
        "            prob.append(q/p)\n",
        "        \n",
        "        prob = np.array(prob)\n",
        "\n",
        "        prob_sum = np.sum(prob)\n",
        "        #print(prob_sum)\n",
        "\n",
        "        prob = prob / prob_sum\n",
        "        #print(prob)\n",
        "\n",
        "        choice = np.random.choice(a=list(range(len(prob))), p=prob)\n",
        "        #print('choice', choice)\n",
        "        location[skip_idx] = choice\n",
        "        #print(location)\n",
        "        pwm = calc_pwm(sequences, location, seq_count, motif_len, False, -1)\n",
        "\n",
        "        ic = calc_information_content(pwm, base_pwm, motif_len)\n",
        "        if(ic > best_ic):\n",
        "            best_ic = ic\n",
        "            best_loc = location\n",
        "            best_pwm = pwm\n",
        "\n",
        "    print('best_ic', best_ic)\n",
        "\n",
        "    #runtime = time.time() - start_time\n",
        "\n",
        "    return best_ic, best_loc, best_pwm#, runtime\n",
        "\n"
      ]
    },
    {
      "cell_type": "markdown",
      "metadata": {
        "id": "O2SGcPY4bHMV"
      },
      "source": [
        "# Gibbs Sampler"
      ]
    },
    {
      "cell_type": "code",
      "execution_count": null,
      "metadata": {
        "id": "ajOIewQmU8s8"
      },
      "outputs": [],
      "source": [
        "def gibbs_sampler(sequences, seq_len, seq_count, motif_len, chain_count, epoch_count, log_path):\n",
        "    best_ic = np.NINF\n",
        "    best_loc = None\n",
        "    best_pwm = None # ML rows, 4 columns\n",
        "\n",
        "    log_file = open(log_path, 'w')\n",
        "    log_file.write('Chain,Best_IC,Runtime')\n",
        "\n",
        "    total_time = 0\n",
        "    for chain in range(chain_count):\n",
        "        print('Chain', chain)\n",
        "        start_time = time.time()\n",
        "        ic, loc, pwm = exec_chain(sequences, seq_len, seq_count, motif_len, epoch_count)\n",
        "        if(ic > best_ic):\n",
        "            best_ic = ic\n",
        "            best_loc = loc\n",
        "            best_pwm = pwm\n",
        "        end_time = time.time()\n",
        "        runtime = end_time - start_time\n",
        "        print('runtime', runtime)\n",
        "        total_time += runtime\n",
        "        log_file.write(str(chain) + ',' + str(best_ic) + ',' + str(runtime))\n",
        "        log_file.flush()\n",
        "    \n",
        "    log_file.close()\n",
        "\n",
        "    return best_ic, best_loc, best_pwm, total_time"
      ]
    },
    {
      "cell_type": "code",
      "source": [
        "def gibbs_sampler2(sequences, seq_len, seq_count, motif_len, chain_count, epoch_count, log_path):\n",
        "    best_ic = np.NINF\n",
        "    best_loc = None\n",
        "    best_pwm = None # ML rows, 4 columns\n",
        "    best_rt = None\n",
        "\n",
        "    log_file = open(log_path, 'w')\n",
        "    log_file.write('Chain,Best_IC,Runtime')\n",
        "\n",
        "    pool_args = [[sequences, seq_len, seq_count, motif_len, epoch_count]] * chain_count\n",
        "    pool = Pool()\n",
        "    result = pool.starmap(exec_chain, pool_args)\n",
        "\n",
        "    for chain in range(chain_count):\n",
        "        chain_result = result[chain]\n",
        "        if(chain_result[0] > best_ic):\n",
        "            best_ic = chain_result[0]\n",
        "            best_loc = chain_result[1]\n",
        "            best_pwm = chain_result[2]\n",
        "            best_rt = chain_result[3]\n",
        "        log_file.write(str(chain) + ',' + str(chain_result[0]) + ',' + str(chain_result[3]))\n",
        "        log_file.flush()\n",
        "    log_file.close()\n",
        "\n",
        "    return best_ic, best_loc, best_pwm, best_rt"
      ],
      "metadata": {
        "id": "3IrkXKTJUwy-"
      },
      "execution_count": null,
      "outputs": []
    },
    {
      "cell_type": "markdown",
      "metadata": {
        "id": "GpkDOHEKirpg"
      },
      "source": [
        "# Main"
      ]
    },
    {
      "cell_type": "code",
      "execution_count": null,
      "metadata": {
        "id": "FnlFRFxOj1ls"
      },
      "outputs": [],
      "source": [
        "def execute(dataset_no, epoch_count, chain_count):\n",
        "    base_data_dir = '/content/drive/MyDrive/CS466/Project/Data/Dataset-2'\n",
        "    base_result_dir = '/content/drive/MyDrive/CS466/Project/Result/Dataset-2'\n",
        "\n",
        "    if not (os.path.exists(base_result_dir)):\n",
        "        os.mkdir(base_result_dir)\n",
        "\n",
        "    data_dir = base_data_dir + '/' + str(dataset_no)\n",
        "    result_dir = base_result_dir + '/' + str(dataset_no)\n",
        "\n",
        "    if(os.path.exists(result_dir)):\n",
        "        shutil.rmtree(result_dir)\n",
        "    os.mkdir(result_dir)\n",
        "\n",
        "    filenames = ['sequences.fa', 'motiflength.txt', 'motif.txt', 'sites.txt']\n",
        "\n",
        "    for filename in filenames:\n",
        "        src = data_dir + '/' + filename\n",
        "        dst = result_dir + '/' + filename\n",
        "        shutil.copyfile(src, dst)\n",
        "\n",
        "    sequence_path = data_dir + '/sequences.fa'\n",
        "    motiflen_path = data_dir + '/motiflength.txt'\n",
        "\n",
        "    sequences, seq_count, seq_len = read_sequences(sequence_path)\n",
        "    motif_len = read_motiflen(motiflen_path)\n",
        "\n",
        "    log_path = result_dir + '/' + str(dataset_no) + '.log'\n",
        "\n",
        "    ic, loc, pwm, runtime = gibbs_sampler(sequences, seq_len, seq_count, motif_len, chain_count, epoch_count, log_path)\n",
        "    file = open(result_dir + '/ic.txt', 'w')\n",
        "    file.write(str(ic))\n",
        "    file.close()\n",
        "\n",
        "    file = open(result_dir + '/runtime.txt', 'w')\n",
        "    file.write(str(runtime))\n",
        "    file.close()\n",
        "\n",
        "    file = open(result_dir + '/predictedmotif.txt', 'w')\n",
        "    file.write('>MOTIF1 ' + str(motif_len))\n",
        "    for i in range(motif_len):\n",
        "        for j in range(4):\n",
        "            file.write(str(pwm[i][j]) + ' ')\n",
        "        if(i != motif_len - 1):\n",
        "            file.write('\\n')\n",
        "    file.write('<')\n",
        "    file.close()\n",
        "\n",
        "    file = open(result_dir + '/predictedsites.txt', 'w')\n",
        "    for i in range(seq_count):\n",
        "        file.write(str(loc[i]))\n",
        "        if(i != seq_count - 1):\n",
        "            file.write(',')\n",
        "    file.close()"
      ]
    },
    {
      "cell_type": "markdown",
      "metadata": {
        "id": "lFceStKovOux"
      },
      "source": [
        "# Command Line Arguments"
      ]
    },
    {
      "cell_type": "code",
      "execution_count": null,
      "metadata": {
        "id": "4k7v1VNhiq78"
      },
      "outputs": [],
      "source": [
        "def parse_args():\n",
        "    parser = argparse.ArgumentParser()\n",
        "\n",
        "    parser.add_argument(\"-d\", \"--dataset_no\", type=int, required=True, default=None)\n",
        "    parser.add_argument(\"-e\", \"--epoch_count\", type=int, required=True, default=10000)\n",
        "    parser.add_argument(\"-c\", \"--chain_count\", type=int, required=True, default=100)\n",
        "\n",
        "    return parser.parse_args()    "
      ]
    },
    {
      "cell_type": "markdown",
      "metadata": {
        "id": "XrnoiyLgvQmk"
      },
      "source": [
        "# Main"
      ]
    },
    {
      "cell_type": "code",
      "execution_count": null,
      "metadata": {
        "id": "qWj8Xy7fmGzz"
      },
      "outputs": [],
      "source": [
        "def main():\n",
        "    #args = parse_args()\n",
        "\n",
        "    #dataset_no = args.dataset_no\n",
        "    epoch_count = 10000#args.epoch_count\n",
        "    chain_count = 10#args.chain_count\n",
        "    for dataset_no in range(1, 71):\n",
        "        execute(dataset_no, epoch_count, chain_count)"
      ]
    },
    {
      "cell_type": "code",
      "execution_count": null,
      "metadata": {
        "colab": {
          "base_uri": "https://localhost:8080/"
        },
        "id": "5MDzFJHmvSxq",
        "outputId": "5b5b0d16-3d08-4152-f357-c145194d5199"
      },
      "outputs": [
        {
          "output_type": "stream",
          "name": "stdout",
          "text": [
            "Chain 0\n",
            "best_ic 10.869659446375117\n",
            "runtime 33.60573387145996\n",
            "Chain 1\n",
            "best_ic 10.979885450914143\n",
            "runtime 33.484482288360596\n",
            "Chain 2\n",
            "best_ic 15.964660292578046\n",
            "runtime 33.54975342750549\n",
            "Chain 3\n",
            "best_ic 11.237832521119893\n",
            "runtime 33.42374348640442\n",
            "Chain 4\n",
            "best_ic 11.386995562292997\n",
            "runtime 33.50162196159363\n",
            "Chain 5\n",
            "best_ic 10.825824212265482\n",
            "runtime 33.40541100502014\n",
            "Chain 6\n",
            "best_ic 10.515850388515792\n",
            "runtime 33.57588076591492\n",
            "Chain 7\n",
            "best_ic 10.481872330291008\n",
            "runtime 33.60708427429199\n",
            "Chain 8\n",
            "best_ic 11.393828880039065\n",
            "runtime 33.56342935562134\n",
            "Chain 9\n",
            "best_ic 10.638603928568125\n",
            "runtime 33.66911768913269\n"
          ]
        }
      ],
      "source": [
        "main()"
      ]
    }
  ],
  "metadata": {
    "colab": {
      "name": "Algorithm.ipynb",
      "provenance": []
    },
    "kernelspec": {
      "display_name": "Python 3",
      "name": "python3"
    },
    "language_info": {
      "name": "python"
    }
  },
  "nbformat": 4,
  "nbformat_minor": 0
}