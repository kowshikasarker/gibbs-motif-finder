{
  "nbformat": 4,
  "nbformat_minor": 0,
  "metadata": {
    "colab": {
      "name": "Plotting.ipynb",
      "provenance": []
    },
    "kernelspec": {
      "name": "python3",
      "display_name": "Python 3"
    },
    "language_info": {
      "name": "python"
    }
  },
  "cells": [
    {
      "cell_type": "code",
      "source": [
        "from google.colab import drive\n",
        "drive.mount('/content/drive')"
      ],
      "metadata": {
        "colab": {
          "base_uri": "https://localhost:8080/"
        },
        "id": "G8ozw4r-Dr_Y",
        "outputId": "96517d32-fe6d-4760-9059-9a2bf467219e"
      },
      "execution_count": 187,
      "outputs": [
        {
          "output_type": "stream",
          "name": "stdout",
          "text": [
            "Drive already mounted at /content/drive; to attempt to forcibly remount, call drive.mount(\"/content/drive\", force_remount=True).\n"
          ]
        }
      ]
    },
    {
      "cell_type": "code",
      "execution_count": 188,
      "metadata": {
        "id": "yUKtnrtOhQWf",
        "colab": {
          "base_uri": "https://localhost:8080/"
        },
        "outputId": "bab8c3fd-8aa4-44d8-dbeb-cd45b6e2e653"
      },
      "outputs": [
        {
          "output_type": "execute_result",
          "data": {
            "text/plain": [
              "<pandas._config.config.option_context at 0x7f404dfbe7d0>"
            ]
          },
          "metadata": {},
          "execution_count": 188
        }
      ],
      "source": [
        "import matplotlib.pyplot as plt\n",
        "import numpy as np\n",
        "import pandas as pd\n",
        "import os\n",
        "pd.option_context('display.max_rows', None, 'display.max_columns', None)"
      ]
    },
    {
      "cell_type": "code",
      "source": [
        "excel_path = '/content/drive/My Drive/CS466/Project/Result/Dataset-2.1/Dataset-2.1.xlsx'\n",
        "image_path = '/content/drive/My Drive/CS466/Project/Result/Dataset-2.1/Plot'\n",
        "log_path = '/content/drive/My Drive/CS466/Project/Result/Dataset-2.1/Plot/log.txt'\n",
        "if (os.path.exists(log_path)):\n",
        "    os.remove(log_path) "
      ],
      "metadata": {
        "id": "euLcKe3Bm9OE"
      },
      "execution_count": 189,
      "outputs": []
    },
    {
      "cell_type": "code",
      "source": [
        "if not (os.path.exists(image_path)):\n",
        "    os.mkdir(image_path)"
      ],
      "metadata": {
        "id": "Ix2gzRf6-y5K"
      },
      "execution_count": 190,
      "outputs": []
    },
    {
      "cell_type": "code",
      "source": [
        "def box_plot(df, x_col, y_col, xlabel, ylabel):\n",
        "    df = df[[x_col, y_col]]\n",
        "    #print(df)\n",
        "    gb = df.groupby(x_col)\n",
        "\n",
        "    log_file = open(log_path, 'a')\n",
        "\n",
        "    print('Mean', file=log_file)\n",
        "    print(gb.mean().reset_index(), file=log_file)\n",
        "    print('Median', file=log_file)\n",
        "    print(gb.median().reset_index(), file=log_file)\n",
        "    print('Std', file=log_file)\n",
        "    print(gb.std().reset_index(), file=log_file)\n",
        "    #print(gb.mean().reset_index())\n",
        "\n",
        "    log_file.flush()\n",
        "    log_file.close()\n",
        "\n",
        "    labels = []\n",
        "    values = []\n",
        "    for name, group in gb:\n",
        "        labels.append(name)\n",
        "        values.append(group[y_col])\n",
        "    \n",
        "    fig, ax = plt.subplots()\n",
        "    box = ax.boxplot(values)\n",
        "    plt.xticks([1, 2, 3], labels)\n",
        "    plt.xlabel(xlabel)\n",
        "    plt.ylabel(ylabel)\n",
        "\n",
        "    plt.savefig(image_path + '/' + x_col + ':' + y_col + '.png')\n",
        "    #plt.show()"
      ],
      "metadata": {
        "id": "ouql0hzxEL6E"
      },
      "execution_count": 191,
      "outputs": []
    },
    {
      "cell_type": "code",
      "source": [
        "def scatter_plot(df):\n",
        "    df = df.rename(columns={'ICPC': 'Original_ICPC'})\n",
        "    df['Predicted_ICPC'] = df['info_cont'] / df['ML']\n",
        "\n",
        "    df = df[['Original_ICPC', 'Predicted_ICPC']]\n",
        "\n",
        "    gb = df.groupby('Original_ICPC')\n",
        "    labels = []\n",
        "    values = []\n",
        "    for name, group in gb:\n",
        "        labels.append(name)\n",
        "        values.append(group['Predicted_ICPC'])\n",
        "\n",
        "    fig, ax = plt.subplots()\n",
        "    box = ax.boxplot(values)\n",
        "    plt.xticks([1, 2, 3], labels)\n",
        "    \n",
        "    plt.xlabel('Original_ICPC')\n",
        "    plt.ylabel('Predicted_ICPC')\n",
        "    plt.savefig(image_path + '/icpc_scatter.png')\n",
        "    #plt.show()"
      ],
      "metadata": {
        "id": "muAeIS_7z7BT"
      },
      "execution_count": 192,
      "outputs": []
    },
    {
      "cell_type": "code",
      "source": [
        "df = pd.read_excel(excel_path, sheet_name='Metrics')\n",
        "scatter_plot(df)\n",
        "'''\n",
        "print(df)\n",
        "\n",
        "default_ICPC = 2\n",
        "default_ML = 8\n",
        "default_SC = 10\n",
        "\n",
        "# ICPC \n",
        "\n",
        "icpc_df = df[(df['ML'] == default_ML) &  (df['SC'] == default_SC)]\n",
        "print(icpc_df.shape)\n",
        "\n",
        "box_plot(icpc_df, x_col='ICPC', y_col='overlap', xlabel='ICPC', ylabel='Site Overlap')\n",
        "box_plot(icpc_df, x_col='ICPC', y_col='runtime', xlabel='ICPC', ylabel='Running Time')\n",
        "box_plot(icpc_df, x_col='ICPC', y_col='entropy', xlabel='ICPC', ylabel='Relative Entropy')\n",
        "\n",
        "# SC\n",
        "sc_df = df[(df['ICPC'] == default_ICPC) &  (df['ML'] == default_ML)]\n",
        "print(sc_df.shape)\n",
        "\n",
        "box_plot(sc_df, x_col='SC', y_col='overlap', xlabel='Sequence Count', ylabel='Site Overlap')\n",
        "box_plot(sc_df, x_col='SC', y_col='runtime', xlabel='Sequence Count', ylabel='Running Time')\n",
        "box_plot(sc_df, x_col='SC', y_col='entropy', xlabel='Sequence Count', ylabel='Relative Entropy')\n",
        "\n",
        "# ML\n",
        "ml_df = df[(df['ICPC'] == default_ICPC) &  (df['SC'] == default_SC)]\n",
        "print(ml_df.shape)\n",
        "\n",
        "box_plot(ml_df, x_col='ML', y_col='overlap', xlabel='Motif Length', ylabel='Site Overlap')\n",
        "box_plot(ml_df, x_col='ML', y_col='runtime', xlabel='Motif Length', ylabel='Running Time')\n",
        "box_plot(ml_df, x_col='ML', y_col='entropy', xlabel='Motif Length', ylabel='Relative Entropy')'''"
      ],
      "metadata": {
        "colab": {
          "base_uri": "https://localhost:8080/",
          "height": 466
        },
        "id": "1tw0BXLlncWK",
        "outputId": "88e69c3c-210d-4a33-b03b-1edeb82367db"
      },
      "execution_count": 193,
      "outputs": [
        {
          "output_type": "stream",
          "name": "stderr",
          "text": [
            "/usr/local/lib/python3.7/dist-packages/matplotlib/cbook/__init__.py:1376: VisibleDeprecationWarning: Creating an ndarray from ragged nested sequences (which is a list-or-tuple of lists-or-tuples-or ndarrays with different lengths or shapes) is deprecated. If you meant to do this, you must specify 'dtype=object' when creating the ndarray.\n",
            "  X = np.atleast_1d(X.T if isinstance(X, np.ndarray) else np.asarray(X))\n"
          ]
        },
        {
          "output_type": "execute_result",
          "data": {
            "text/plain": [
              "\"\\nprint(df)\\n\\ndefault_ICPC = 2\\ndefault_ML = 8\\ndefault_SC = 10\\n\\n# ICPC \\n\\nicpc_df = df[(df['ML'] == default_ML) &  (df['SC'] == default_SC)]\\nprint(icpc_df.shape)\\n\\nbox_plot(icpc_df, x_col='ICPC', y_col='overlap', xlabel='ICPC', ylabel='Site Overlap')\\nbox_plot(icpc_df, x_col='ICPC', y_col='runtime', xlabel='ICPC', ylabel='Running Time')\\nbox_plot(icpc_df, x_col='ICPC', y_col='entropy', xlabel='ICPC', ylabel='Relative Entropy')\\n\\n# SC\\nsc_df = df[(df['ICPC'] == default_ICPC) &  (df['ML'] == default_ML)]\\nprint(sc_df.shape)\\n\\nbox_plot(sc_df, x_col='SC', y_col='overlap', xlabel='Sequence Count', ylabel='Site Overlap')\\nbox_plot(sc_df, x_col='SC', y_col='runtime', xlabel='Sequence Count', ylabel='Running Time')\\nbox_plot(sc_df, x_col='SC', y_col='entropy', xlabel='Sequence Count', ylabel='Relative Entropy')\\n\\n# ML\\nml_df = df[(df['ICPC'] == default_ICPC) &  (df['SC'] == default_SC)]\\nprint(ml_df.shape)\\n\\nbox_plot(ml_df, x_col='ML', y_col='overlap', xlabel='Motif Length', ylabel='Site Overlap')\\nbox_plot(ml_df, x_col='ML', y_col='runtime', xlabel='Motif Length', ylabel='Running Time')\\nbox_plot(ml_df, x_col='ML', y_col='entropy', xlabel='Motif Length', ylabel='Relative Entropy')\""
            ],
            "application/vnd.google.colaboratory.intrinsic+json": {
              "type": "string"
            }
          },
          "metadata": {},
          "execution_count": 193
        },
        {
          "output_type": "display_data",
          "data": {
            "text/plain": [
              "<Figure size 432x288 with 1 Axes>"
            ],
            "image/png": "[encoded data removed]"
          },
          "metadata": {
            "needs_background": "light"
          }
        }
      ]
    }
  ]
}